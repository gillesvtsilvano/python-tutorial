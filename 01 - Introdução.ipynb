{
 "cells": [
  {
   "cell_type": "markdown",
   "metadata": {},
   "source": [
    "# 1.1 Introdução à Programação"
   ]
  },
  {
   "cell_type": "markdown",
   "metadata": {},
   "source": [
    "Algoritmos são a base da Ciência da Computação e, consequentemente, da Programação. Todo programa de computador é desenvolvido sobre uma ideia, ou melhor, passos lógicos que resolvem um problema específico. Então, quando nos referimos a programar, estamos dizendo, basicamente, em construir um algoritmo para resolver um problema específico e, a partir desse algoritmo, desenvolver um programa que o implementa."
   ]
  },
  {
   "cell_type": "markdown",
   "metadata": {},
   "source": [
    "<font style=\"background-color:yellow;\"><strong>Um algoritmo</strong>é uma <strong>sequência de passos lógicos</strong> que, dada uma certa <strong>entrada</strong> geram uma <strong>saída</strong> para resolver um problema específico.</font>"
   ]
  },
  {
   "cell_type": "code",
   "execution_count": null,
   "metadata": {},
   "outputs": [],
   "source": []
  }
 ],
 "metadata": {
  "kernelspec": {
   "display_name": "Python 3",
   "language": "python",
   "name": "python3"
  },
  "language_info": {
   "codemirror_mode": {
    "name": "ipython",
    "version": 3
   },
   "file_extension": ".py",
   "mimetype": "text/x-python",
   "name": "python",
   "nbconvert_exporter": "python",
   "pygments_lexer": "ipython3",
   "version": "3.6.5"
  }
 },
 "nbformat": 4,
 "nbformat_minor": 2
}
